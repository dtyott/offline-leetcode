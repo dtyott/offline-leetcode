{
 "cells": [
  {
   "cell_type": "markdown",
   "id": "e70e0e66",
   "metadata": {},
   "source": [
    "## Offline Leetcode for my baby"
   ]
  },
  {
   "cell_type": "code",
   "execution_count": 1,
   "id": "ed73351b",
   "metadata": {},
   "outputs": [],
   "source": [
    "import api as leetcode\n",
    "from typing import List\n",
    "\n",
    "from IPython.core.getipython import get_ipython\n",
    "\n",
    "def new_random_problem():\n",
    "    lc = leetcode.get_random_problem()\n",
    "    get_ipython().set_next_input(lc.getting_started(),replace=False)"
   ]
  },
  {
   "cell_type": "code",
   "execution_count": 2,
   "id": "f9ce0386",
   "metadata": {},
   "outputs": [],
   "source": [
    "new_random_problem()"
   ]
  },
  {
   "cell_type": "code",
   "execution_count": 6,
   "id": "b4f3bb08",
   "metadata": {},
   "outputs": [
    {
     "name": "stdout",
     "output_type": "stream",
     "text": [
      "LeetcodeStatus.FAIL: 0/100 test cases passed.\n",
      "Input: [21, 14, 43, 42, 37, 8, 49, 10, 17, 8, 43, 48, 12, 29, 41, 31, 36, 25, 2, 23, 8, 13, 14, 29, 41, 36, 27, 27, 14, 42, 23, 5, 14, 25, 8, 41, 37, 36, 43, 13, 8, 6, 8, 28, 30]\n",
      "Expected Answer: 1548\n",
      "Your Answer: 4.\n",
      "Attempts: 5\n"
     ]
    }
   ],
   "source": [
    "'''\n",
    "Container With Most Water: (MEDIUM)\n",
    "\n",
    "You are given an integer array height of length n. There are n vertical lines drawn such that the two endpoints of the ith line are (i, 0) and (i, height[i]).\n",
    "\n",
    "Find two lines that together with the x-axis form a container, such that the container contains the most water.\n",
    "\n",
    "Return the maximum amount of water a container can store.\n",
    "\n",
    "Notice that you may not slant the container.\n",
    "\n",
    " \n",
    "Example 1:\n",
    "\n",
    "\n",
    "Input: height = [1,8,6,2,5,4,8,3,7]\n",
    "Output: 49\n",
    "Explanation: The above vertical lines are represented by array [1,8,6,2,5,4,8,3,7]. In this case, the max area of water (blue section) the container can contain is 49.\n",
    "Example 2:\n",
    "\n",
    "Input: height = [1,1]\n",
    "Output: 1\n",
    "\n",
    "\n",
    "'''\n",
    "\n",
    "def maxArea(height: List[int]) -> int:\n",
    "    ##Insert Solution Here :)\n",
    "    return 4\n",
    "\n",
    "\n",
    "\n",
    "#leetcode.test(maxArea, test_case) #submit a test case\n",
    "leetcode.submit(maxArea) #submit your answer"
   ]
  },
  {
   "cell_type": "code",
   "execution_count": null,
   "id": "689cfed8",
   "metadata": {},
   "outputs": [],
   "source": []
  }
 ],
 "metadata": {
  "kernelspec": {
   "display_name": "Python 3 (ipykernel)",
   "language": "python",
   "name": "python3"
  },
  "language_info": {
   "codemirror_mode": {
    "name": "ipython",
    "version": 3
   },
   "file_extension": ".py",
   "mimetype": "text/x-python",
   "name": "python",
   "nbconvert_exporter": "python",
   "pygments_lexer": "ipython3",
   "version": "3.11.5"
  }
 },
 "nbformat": 4,
 "nbformat_minor": 5
}
