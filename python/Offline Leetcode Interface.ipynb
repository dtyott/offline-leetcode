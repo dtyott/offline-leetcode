{
 "cells": [
  {
   "cell_type": "markdown",
   "id": "9805c95a",
   "metadata": {},
   "source": [
    "## Offline Leetcode for my baby"
   ]
  },
  {
   "cell_type": "code",
   "execution_count": 7,
   "id": "5191d5b3",
   "metadata": {},
   "outputs": [],
   "source": [
    "import api as leetcode\n",
    "from typing import List\n",
    "\n",
    "from IPython.core.getipython import get_ipython\n",
    "\n",
    "def new_random_problem():\n",
    "    lc = leetcode.get_random_problem()\n",
    "    get_ipython().set_next_input(lc.getting_started(),replace=False)"
   ]
  },
  {
   "cell_type": "code",
   "execution_count": 19,
   "id": "5f2c5f1e",
   "metadata": {},
   "outputs": [],
   "source": [
    "new_random_problem()"
   ]
  },
  {
   "cell_type": "code",
   "execution_count": null,
   "id": "9c38297b",
   "metadata": {},
   "outputs": [],
   "source": [
    "'''\n",
    "Container With Most Water: (MEDIUM)\n",
    "\n",
    "You are given an integer array height of length n. There are n vertical lines drawn such that the two endpoints of the ith line are (i, 0) and (i, height[i]).\n",
    "\n",
    "Find two lines that together with the x-axis form a container, such that the container contains the most water.\n",
    "\n",
    "Return the maximum amount of water a container can store.\n",
    "\n",
    "Notice that you may not slant the container.\n",
    "\n",
    " \n",
    "Example 1:\n",
    "\n",
    "\n",
    "Input: height = [1,8,6,2,5,4,8,3,7]\n",
    "Output: 49\n",
    "Explanation: The above vertical lines are represented by array [1,8,6,2,5,4,8,3,7]. In this case, the max area of water (blue section) the container can contain is 49.\n",
    "Example 2:\n",
    "\n",
    "Input: height = [1,1]\n",
    "Output: 1\n",
    "\n",
    "\n",
    "'''\n",
    "\n",
    "def maxArea(height: List[int]) -> int:\n",
    "    ##Insert Solution Here :)\n",
    "    pass\n",
    "\n",
    "\n",
    "\n",
    "#leetcode.test(maxArea, test_case) #submit a test case\n",
    "#leetcode.submit(maxArea) #submit your answer"
   ]
  },
  {
   "cell_type": "code",
   "execution_count": 18,
   "id": "60485081",
   "metadata": {},
   "outputs": [
    {
     "name": "stdout",
     "output_type": "stream",
     "text": [
      "LeetcodeStatus.PASS: 100/100 test cases passed.\n",
      "Fastest Solution: 0.0s\n",
      "Attempts: 3\n"
     ]
    }
   ],
   "source": [
    "'''\n",
    "Sorting a List: (EASY)\n",
    "Sort the input list and return it\n",
    "'''\n",
    "\n",
    "def sortAList(l):\n",
    "    ##Insert Solution Here :)\n",
    "    return sorted(l)\n",
    "    pass\n",
    "\n",
    "\n",
    "\n",
    "#leetcode.test(sortAList, test_case) #submit a test case\n",
    "leetcode.submit(sortAList) #submit your answer"
   ]
  },
  {
   "cell_type": "code",
   "execution_count": null,
   "id": "5fc9e75f",
   "metadata": {},
   "outputs": [],
   "source": []
  }
 ],
 "metadata": {
  "kernelspec": {
   "display_name": "Python 3 (ipykernel)",
   "language": "python",
   "name": "python3"
  },
  "language_info": {
   "codemirror_mode": {
    "name": "ipython",
    "version": 3
   },
   "file_extension": ".py",
   "mimetype": "text/x-python",
   "name": "python",
   "nbconvert_exporter": "python",
   "pygments_lexer": "ipython3",
   "version": "3.11.5"
  }
 },
 "nbformat": 4,
 "nbformat_minor": 5
}
